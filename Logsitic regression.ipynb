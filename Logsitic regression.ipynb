{
 "cells": [
  {
   "cell_type": "markdown",
   "id": "narrative-hardware",
   "metadata": {},
   "source": [
    "# Assignment: Logistic regression\n",
    "15.2.2021 Marja Satukangas"
   ]
  },
  {
   "cell_type": "code",
   "execution_count": 1,
   "id": "lyric-pizza",
   "metadata": {},
   "outputs": [],
   "source": [
    "#import libraries\n",
    "\n",
    "import pandas as pd\n",
    "import numpy as np\n",
    "from sklearn.linear_model import LogisticRegression\n",
    "from sklearn.preprocessing import StandardScaler\n",
    "from sklearn.metrics import confusion_matrix\n",
    "from sklearn.metrics import classification_report\n",
    "#from sklearn.cross_validation import cross_val_score\n",
    "from sklearn.model_selection import cross_val_score\n",
    "from sklearn.preprocessing import OneHotEncoder\n",
    "from sklearn.model_selection import train_test_split\n",
    "from sklearn.multiclass import OneVsRestClassifier\n",
    "from sklearn.svm import SVC"
   ]
  },
  {
   "cell_type": "markdown",
   "id": "democratic-baghdad",
   "metadata": {},
   "source": [
    "### Read data"
   ]
  },
  {
   "cell_type": "code",
   "execution_count": 2,
   "id": "norman-attendance",
   "metadata": {},
   "outputs": [
    {
     "data": {
      "text/html": [
       "<div>\n",
       "<style scoped>\n",
       "    .dataframe tbody tr th:only-of-type {\n",
       "        vertical-align: middle;\n",
       "    }\n",
       "\n",
       "    .dataframe tbody tr th {\n",
       "        vertical-align: top;\n",
       "    }\n",
       "\n",
       "    .dataframe thead th {\n",
       "        text-align: right;\n",
       "    }\n",
       "</style>\n",
       "<table border=\"1\" class=\"dataframe\">\n",
       "  <thead>\n",
       "    <tr style=\"text-align: right;\">\n",
       "      <th></th>\n",
       "      <th>pelvic incidence</th>\n",
       "      <th>pelvic tilt</th>\n",
       "      <th>lumbar lordosis angle</th>\n",
       "      <th>sacral slope</th>\n",
       "      <th>pelvic radius</th>\n",
       "      <th>grade of spondylolisthesis</th>\n",
       "      <th>vertebral abnormality</th>\n",
       "    </tr>\n",
       "  </thead>\n",
       "  <tbody>\n",
       "    <tr>\n",
       "      <th>0</th>\n",
       "      <td>63.03</td>\n",
       "      <td>22.55</td>\n",
       "      <td>39.61</td>\n",
       "      <td>40.48</td>\n",
       "      <td>98.67</td>\n",
       "      <td>-0.25</td>\n",
       "      <td>AB</td>\n",
       "    </tr>\n",
       "    <tr>\n",
       "      <th>1</th>\n",
       "      <td>39.06</td>\n",
       "      <td>10.06</td>\n",
       "      <td>25.02</td>\n",
       "      <td>29.00</td>\n",
       "      <td>114.41</td>\n",
       "      <td>4.56</td>\n",
       "      <td>AB</td>\n",
       "    </tr>\n",
       "    <tr>\n",
       "      <th>2</th>\n",
       "      <td>68.83</td>\n",
       "      <td>22.22</td>\n",
       "      <td>50.09</td>\n",
       "      <td>46.61</td>\n",
       "      <td>105.99</td>\n",
       "      <td>-3.53</td>\n",
       "      <td>AB</td>\n",
       "    </tr>\n",
       "    <tr>\n",
       "      <th>3</th>\n",
       "      <td>69.30</td>\n",
       "      <td>24.65</td>\n",
       "      <td>44.31</td>\n",
       "      <td>44.64</td>\n",
       "      <td>101.87</td>\n",
       "      <td>11.21</td>\n",
       "      <td>AB</td>\n",
       "    </tr>\n",
       "    <tr>\n",
       "      <th>4</th>\n",
       "      <td>49.71</td>\n",
       "      <td>9.65</td>\n",
       "      <td>28.32</td>\n",
       "      <td>40.06</td>\n",
       "      <td>108.17</td>\n",
       "      <td>7.92</td>\n",
       "      <td>AB</td>\n",
       "    </tr>\n",
       "    <tr>\n",
       "      <th>5</th>\n",
       "      <td>40.25</td>\n",
       "      <td>13.92</td>\n",
       "      <td>25.12</td>\n",
       "      <td>26.33</td>\n",
       "      <td>130.33</td>\n",
       "      <td>2.23</td>\n",
       "      <td>AB</td>\n",
       "    </tr>\n",
       "    <tr>\n",
       "      <th>6</th>\n",
       "      <td>53.43</td>\n",
       "      <td>15.86</td>\n",
       "      <td>37.17</td>\n",
       "      <td>37.57</td>\n",
       "      <td>120.57</td>\n",
       "      <td>5.99</td>\n",
       "      <td>AB</td>\n",
       "    </tr>\n",
       "    <tr>\n",
       "      <th>7</th>\n",
       "      <td>45.37</td>\n",
       "      <td>10.76</td>\n",
       "      <td>29.04</td>\n",
       "      <td>34.61</td>\n",
       "      <td>117.27</td>\n",
       "      <td>-10.68</td>\n",
       "      <td>AB</td>\n",
       "    </tr>\n",
       "    <tr>\n",
       "      <th>8</th>\n",
       "      <td>43.79</td>\n",
       "      <td>13.53</td>\n",
       "      <td>42.69</td>\n",
       "      <td>30.26</td>\n",
       "      <td>125.00</td>\n",
       "      <td>13.29</td>\n",
       "      <td>AB</td>\n",
       "    </tr>\n",
       "    <tr>\n",
       "      <th>9</th>\n",
       "      <td>36.69</td>\n",
       "      <td>5.01</td>\n",
       "      <td>41.95</td>\n",
       "      <td>31.68</td>\n",
       "      <td>84.24</td>\n",
       "      <td>0.66</td>\n",
       "      <td>AB</td>\n",
       "    </tr>\n",
       "  </tbody>\n",
       "</table>\n",
       "</div>"
      ],
      "text/plain": [
       "   pelvic incidence  pelvic tilt  lumbar lordosis angle  sacral slope  \\\n",
       "0             63.03        22.55                  39.61         40.48   \n",
       "1             39.06        10.06                  25.02         29.00   \n",
       "2             68.83        22.22                  50.09         46.61   \n",
       "3             69.30        24.65                  44.31         44.64   \n",
       "4             49.71         9.65                  28.32         40.06   \n",
       "5             40.25        13.92                  25.12         26.33   \n",
       "6             53.43        15.86                  37.17         37.57   \n",
       "7             45.37        10.76                  29.04         34.61   \n",
       "8             43.79        13.53                  42.69         30.26   \n",
       "9             36.69         5.01                  41.95         31.68   \n",
       "\n",
       "   pelvic radius  grade of spondylolisthesis vertebral abnormality  \n",
       "0          98.67                       -0.25                    AB  \n",
       "1         114.41                        4.56                    AB  \n",
       "2         105.99                       -3.53                    AB  \n",
       "3         101.87                       11.21                    AB  \n",
       "4         108.17                        7.92                    AB  \n",
       "5         130.33                        2.23                    AB  \n",
       "6         120.57                        5.99                    AB  \n",
       "7         117.27                      -10.68                    AB  \n",
       "8         125.00                       13.29                    AB  \n",
       "9          84.24                        0.66                    AB  "
      ]
     },
     "execution_count": 2,
     "metadata": {},
     "output_type": "execute_result"
    }
   ],
   "source": [
    "# column names\n",
    "colnames = ['pelvic incidence', 'pelvic tilt', 'lumbar lordosis angle', 'sacral slope', 'pelvic radius', 'grade of spondylolisthesis', 'vertebral abnormality']\n",
    "\n",
    "# read data \n",
    "df_c2 = pd.read_csv('C:/Users\\Marja/Desktop\\Metropolia/Uusi kansio/column_2C.dat', sep=\" \", names=colnames)\n",
    "df_c3 = pd.read_csv('C:/Users\\Marja/Desktop\\Metropolia/Uusi kansio/column_3C.dat', sep=\" \", names=colnames)\n",
    "\n",
    "df = df_c2\n",
    "\n",
    "df.head(10)"
   ]
  },
  {
   "cell_type": "code",
   "execution_count": 3,
   "id": "unsigned-hunger",
   "metadata": {},
   "outputs": [
    {
     "data": {
      "text/plain": [
       "pelvic incidence              0\n",
       "pelvic tilt                   0\n",
       "lumbar lordosis angle         0\n",
       "sacral slope                  0\n",
       "pelvic radius                 0\n",
       "grade of spondylolisthesis    0\n",
       "vertebral abnormality         0\n",
       "dtype: int64"
      ]
     },
     "execution_count": 3,
     "metadata": {},
     "output_type": "execute_result"
    }
   ],
   "source": [
    "df.isna().sum()"
   ]
  },
  {
   "cell_type": "code",
   "execution_count": 4,
   "id": "novel-anger",
   "metadata": {},
   "outputs": [
    {
     "data": {
      "text/plain": [
       "pelvic incidence              310\n",
       "pelvic tilt                   310\n",
       "lumbar lordosis angle         310\n",
       "sacral slope                  310\n",
       "pelvic radius                 310\n",
       "grade of spondylolisthesis    310\n",
       "vertebral abnormality         310\n",
       "dtype: int64"
      ]
     },
     "execution_count": 4,
     "metadata": {},
     "output_type": "execute_result"
    }
   ],
   "source": [
    "df.count()"
   ]
  },
  {
   "cell_type": "code",
   "execution_count": 5,
   "id": "demanding-boring",
   "metadata": {},
   "outputs": [
    {
     "data": {
      "text/plain": [
       "<AxesSubplot:>"
      ]
     },
     "execution_count": 5,
     "metadata": {},
     "output_type": "execute_result"
    },
    {
     "data": {
      "image/png": "[encoded data removed]",
      "text/plain": [
       "<Figure size 432x288 with 1 Axes>"
      ]
     },
     "metadata": {
      "needs_background": "light"
     },
     "output_type": "display_data"
    }
   ],
   "source": [
    "df['vertebral abnormality'].value_counts().plot(kind=\"bar\")"
   ]
  },
  {
   "cell_type": "markdown",
   "id": "iraqi-karaoke",
   "metadata": {},
   "source": [
    "### Preprocessing"
   ]
  },
  {
   "cell_type": "code",
   "execution_count": 6,
   "id": "unlikely-envelope",
   "metadata": {},
   "outputs": [],
   "source": [
    "#separate features and labels\n",
    "Y = df.pop('vertebral abnormality')\n",
    "X = df"
   ]
  },
  {
   "cell_type": "code",
   "execution_count": 7,
   "id": "quick-rhythm",
   "metadata": {},
   "outputs": [],
   "source": [
    "#separate train set and test set\n",
    "X_train, X_test, Y_train, Y_test = train_test_split(X, Y, test_size=0.2, random_state=0)"
   ]
  },
  {
   "cell_type": "markdown",
   "id": "finnish-boost",
   "metadata": {},
   "source": [
    "### Building model"
   ]
  },
  {
   "cell_type": "code",
   "execution_count": 8,
   "id": "driven-georgia",
   "metadata": {},
   "outputs": [],
   "source": [
    "# build and fit model\n",
    "\n",
    "reg = LogisticRegression()\n",
    "reg.fit(X_train,Y_train)\n",
    "\n",
    "Y_pred = reg.predict(X_test)\n"
   ]
  },
  {
   "cell_type": "markdown",
   "id": "higher-clock",
   "metadata": {},
   "source": [
    "### Evaluation"
   ]
  },
  {
   "cell_type": "markdown",
   "id": "absolute-packing",
   "metadata": {},
   "source": [
    "With a separate test set (which was quite small) accuracy of 0.79 was accieved. "
   ]
  },
  {
   "cell_type": "code",
   "execution_count": 9,
   "id": "disturbed-stupid",
   "metadata": {},
   "outputs": [
    {
     "data": {
      "text/html": [
       "<div>\n",
       "<style scoped>\n",
       "    .dataframe tbody tr th:only-of-type {\n",
       "        vertical-align: middle;\n",
       "    }\n",
       "\n",
       "    .dataframe tbody tr th {\n",
       "        vertical-align: top;\n",
       "    }\n",
       "\n",
       "    .dataframe thead th {\n",
       "        text-align: right;\n",
       "    }\n",
       "</style>\n",
       "<table border=\"1\" class=\"dataframe\">\n",
       "  <thead>\n",
       "    <tr style=\"text-align: right;\">\n",
       "      <th></th>\n",
       "      <th>Actual</th>\n",
       "      <th>Predicted</th>\n",
       "    </tr>\n",
       "  </thead>\n",
       "  <tbody>\n",
       "    <tr>\n",
       "      <th>300</th>\n",
       "      <td>NO</td>\n",
       "      <td>NO</td>\n",
       "    </tr>\n",
       "    <tr>\n",
       "      <th>145</th>\n",
       "      <td>AB</td>\n",
       "      <td>AB</td>\n",
       "    </tr>\n",
       "    <tr>\n",
       "      <th>302</th>\n",
       "      <td>NO</td>\n",
       "      <td>AB</td>\n",
       "    </tr>\n",
       "    <tr>\n",
       "      <th>222</th>\n",
       "      <td>NO</td>\n",
       "      <td>AB</td>\n",
       "    </tr>\n",
       "    <tr>\n",
       "      <th>52</th>\n",
       "      <td>AB</td>\n",
       "      <td>AB</td>\n",
       "    </tr>\n",
       "    <tr>\n",
       "      <th>279</th>\n",
       "      <td>NO</td>\n",
       "      <td>NO</td>\n",
       "    </tr>\n",
       "    <tr>\n",
       "      <th>22</th>\n",
       "      <td>AB</td>\n",
       "      <td>AB</td>\n",
       "    </tr>\n",
       "    <tr>\n",
       "      <th>171</th>\n",
       "      <td>AB</td>\n",
       "      <td>NO</td>\n",
       "    </tr>\n",
       "    <tr>\n",
       "      <th>191</th>\n",
       "      <td>AB</td>\n",
       "      <td>AB</td>\n",
       "    </tr>\n",
       "    <tr>\n",
       "      <th>245</th>\n",
       "      <td>NO</td>\n",
       "      <td>NO</td>\n",
       "    </tr>\n",
       "  </tbody>\n",
       "</table>\n",
       "</div>"
      ],
      "text/plain": [
       "    Actual Predicted\n",
       "300     NO        NO\n",
       "145     AB        AB\n",
       "302     NO        AB\n",
       "222     NO        AB\n",
       "52      AB        AB\n",
       "279     NO        NO\n",
       "22      AB        AB\n",
       "171     AB        NO\n",
       "191     AB        AB\n",
       "245     NO        NO"
      ]
     },
     "execution_count": 9,
     "metadata": {},
     "output_type": "execute_result"
    }
   ],
   "source": [
    "predictions = pd.DataFrame({'Actual': Y_test, 'Predicted': Y_pred})\n",
    "predictions.head(10)"
   ]
  },
  {
   "cell_type": "code",
   "execution_count": 10,
   "id": "understood-chuck",
   "metadata": {},
   "outputs": [
    {
     "name": "stdout",
     "output_type": "stream",
     "text": [
      "Confusion matrix:\n",
      " [[36  7]\n",
      " [ 6 13]]\n",
      "Accuracy calculated from the test set = 0.790\n",
      "              precision    recall  f1-score   support\n",
      "\n",
      "          AB       0.86      0.84      0.85        43\n",
      "          NO       0.65      0.68      0.67        19\n",
      "\n",
      "    accuracy                           0.79        62\n",
      "   macro avg       0.75      0.76      0.76        62\n",
      "weighted avg       0.79      0.79      0.79        62\n",
      "\n"
     ]
    }
   ],
   "source": [
    "cm = confusion_matrix(Y_test, Y_pred)\n",
    "print(\"Confusion matrix:\\n\",cm)\n",
    "\n",
    "accuracy = (cm[0][0]+cm[1][1])/(cm[0][0]+cm[1][1]+cm[0][1]+cm[1][0])\n",
    "print(\"Accuracy calculated from the test set = %.3f\" % (accuracy))\n",
    "\n",
    "print(classification_report(Y_test, Y_pred, target_names=['AB', 'NO']))"
   ]
  },
  {
   "cell_type": "markdown",
   "id": "collaborative-daniel",
   "metadata": {},
   "source": [
    "### Diagnostic tool"
   ]
  },
  {
   "cell_type": "code",
   "execution_count": null,
   "id": "reduced-pattern",
   "metadata": {},
   "outputs": [
    {
     "name": "stdout",
     "output_type": "stream",
     "text": [
      "Give radiographic measurements of a patient: \n",
      "pelvic incidence 39\n",
      "pelvic tilt 10\n",
      "lumbar lordosis angle 25\n",
      "sacral slope 29\n",
      "pelvic radius 114\n",
      "grade of spondylolisthesis 5\n",
      "The patient have a vertebral abnormality with 81% probability\n",
      "To quit, press q. To continue, press any other key.\n"
     ]
    }
   ],
   "source": [
    "feature_colnames = ['pelvic incidence', 'pelvic tilt', 'lumbar lordosis angle', 'sacral slope', 'pelvic radius', 'grade of spondylolisthesis']\n",
    "end=0\n",
    "\n",
    "while end!='q':\n",
    "    print(\"Give radiographic measurements of a patient: \")\n",
    "    features = []\n",
    "    for i in feature_colnames:\n",
    "        x = float(input((i + \" \")))\n",
    "        features.append(x)\n",
    "    \n",
    "    x_values = np.asarray(features).reshape(1, -1)\n",
    "    pred = reg.predict_proba(x_values)\n",
    "    \n",
    "    probability = \"{:.0%}\".format(pred[0][0])\n",
    "\n",
    "    print (\"The patient have a vertebral abnormality with\", probability, \"probability\")\n",
    "    print (\"To quit, press q. To continue, press any other key.\")\n",
    "    end = input(\"continue? \")\n",
    "    "
   ]
  }
 ],
 "metadata": {
  "kernelspec": {
   "display_name": "Python 3",
   "language": "python",
   "name": "python3"
  },
  "language_info": {
   "codemirror_mode": {
    "name": "ipython",
    "version": 3
   },
   "file_extension": ".py",
   "mimetype": "text/x-python",
   "name": "python",
   "nbconvert_exporter": "python",
   "pygments_lexer": "ipython3",
   "version": "3.8.5"
  }
 },
 "nbformat": 4,
 "nbformat_minor": 5
}
