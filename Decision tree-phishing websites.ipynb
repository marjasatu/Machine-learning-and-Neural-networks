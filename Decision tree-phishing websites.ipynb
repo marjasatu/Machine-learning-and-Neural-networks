{
 "cells": [
  {
   "cell_type": "markdown",
   "id": "overall-basics",
   "metadata": {},
   "source": [
    "# Assignment: Phishing websites\n",
    "\n",
    "Marja Satukangas - 1.2.2021\n",
    "\n",
    "The goal of this assesment is to construct a small useful decision tree that predicts whether a website is aphishing site or not. \n",
    "\n",
    "Data source:https://archive.ics.uci.edu/ml/datasets/phishing+websites"
   ]
  },
  {
   "cell_type": "code",
   "execution_count": 1,
   "id": "experienced-sample",
   "metadata": {},
   "outputs": [],
   "source": [
    "#importing libraries\n",
    "\n",
    "import numpy as np\n",
    "import pandas as pd\n",
    "import graphviz\n",
    "\n",
    "from sklearn import tree\n",
    "from sklearn.preprocessing import OneHotEncoder\n",
    "from sklearn.metrics import accuracy_score"
   ]
  },
  {
   "cell_type": "code",
   "execution_count": 2,
   "id": "coupled-collar",
   "metadata": {},
   "outputs": [
    {
     "data": {
      "text/html": [
       "<div>\n",
       "<style scoped>\n",
       "    .dataframe tbody tr th:only-of-type {\n",
       "        vertical-align: middle;\n",
       "    }\n",
       "\n",
       "    .dataframe tbody tr th {\n",
       "        vertical-align: top;\n",
       "    }\n",
       "\n",
       "    .dataframe thead th {\n",
       "        text-align: right;\n",
       "    }\n",
       "</style>\n",
       "<table border=\"1\" class=\"dataframe\">\n",
       "  <thead>\n",
       "    <tr style=\"text-align: right;\">\n",
       "      <th></th>\n",
       "      <th>having_IP_Address</th>\n",
       "      <th>URL_Length</th>\n",
       "      <th>Shortining_Service</th>\n",
       "      <th>having_At_Symbol</th>\n",
       "      <th>double_slash_redirecting</th>\n",
       "      <th>Prefix_Suffix</th>\n",
       "      <th>having_Sub_Domain</th>\n",
       "      <th>SSLfinal_State</th>\n",
       "      <th>Domain_registeration_length</th>\n",
       "      <th>Favicon</th>\n",
       "      <th>...</th>\n",
       "      <th>popUpWindow</th>\n",
       "      <th>Iframe</th>\n",
       "      <th>age_of_domain</th>\n",
       "      <th>DNSRecord</th>\n",
       "      <th>web_traffic</th>\n",
       "      <th>Page_Rank</th>\n",
       "      <th>Google_Index</th>\n",
       "      <th>Links_pointing_to_page</th>\n",
       "      <th>Statistical_report</th>\n",
       "      <th>Result</th>\n",
       "    </tr>\n",
       "  </thead>\n",
       "  <tbody>\n",
       "    <tr>\n",
       "      <th>0</th>\n",
       "      <td>-1</td>\n",
       "      <td>1</td>\n",
       "      <td>1</td>\n",
       "      <td>1</td>\n",
       "      <td>-1</td>\n",
       "      <td>-1</td>\n",
       "      <td>-1</td>\n",
       "      <td>-1</td>\n",
       "      <td>-1</td>\n",
       "      <td>1</td>\n",
       "      <td>...</td>\n",
       "      <td>1</td>\n",
       "      <td>1</td>\n",
       "      <td>-1</td>\n",
       "      <td>-1</td>\n",
       "      <td>-1</td>\n",
       "      <td>-1</td>\n",
       "      <td>1</td>\n",
       "      <td>1</td>\n",
       "      <td>-1</td>\n",
       "      <td>-1</td>\n",
       "    </tr>\n",
       "    <tr>\n",
       "      <th>1</th>\n",
       "      <td>1</td>\n",
       "      <td>1</td>\n",
       "      <td>1</td>\n",
       "      <td>1</td>\n",
       "      <td>1</td>\n",
       "      <td>-1</td>\n",
       "      <td>0</td>\n",
       "      <td>1</td>\n",
       "      <td>-1</td>\n",
       "      <td>1</td>\n",
       "      <td>...</td>\n",
       "      <td>1</td>\n",
       "      <td>1</td>\n",
       "      <td>-1</td>\n",
       "      <td>-1</td>\n",
       "      <td>0</td>\n",
       "      <td>-1</td>\n",
       "      <td>1</td>\n",
       "      <td>1</td>\n",
       "      <td>1</td>\n",
       "      <td>-1</td>\n",
       "    </tr>\n",
       "    <tr>\n",
       "      <th>2</th>\n",
       "      <td>1</td>\n",
       "      <td>0</td>\n",
       "      <td>1</td>\n",
       "      <td>1</td>\n",
       "      <td>1</td>\n",
       "      <td>-1</td>\n",
       "      <td>-1</td>\n",
       "      <td>-1</td>\n",
       "      <td>-1</td>\n",
       "      <td>1</td>\n",
       "      <td>...</td>\n",
       "      <td>1</td>\n",
       "      <td>1</td>\n",
       "      <td>1</td>\n",
       "      <td>-1</td>\n",
       "      <td>1</td>\n",
       "      <td>-1</td>\n",
       "      <td>1</td>\n",
       "      <td>0</td>\n",
       "      <td>-1</td>\n",
       "      <td>-1</td>\n",
       "    </tr>\n",
       "    <tr>\n",
       "      <th>3</th>\n",
       "      <td>1</td>\n",
       "      <td>0</td>\n",
       "      <td>1</td>\n",
       "      <td>1</td>\n",
       "      <td>1</td>\n",
       "      <td>-1</td>\n",
       "      <td>-1</td>\n",
       "      <td>-1</td>\n",
       "      <td>1</td>\n",
       "      <td>1</td>\n",
       "      <td>...</td>\n",
       "      <td>1</td>\n",
       "      <td>1</td>\n",
       "      <td>-1</td>\n",
       "      <td>-1</td>\n",
       "      <td>1</td>\n",
       "      <td>-1</td>\n",
       "      <td>1</td>\n",
       "      <td>-1</td>\n",
       "      <td>1</td>\n",
       "      <td>-1</td>\n",
       "    </tr>\n",
       "    <tr>\n",
       "      <th>4</th>\n",
       "      <td>1</td>\n",
       "      <td>0</td>\n",
       "      <td>-1</td>\n",
       "      <td>1</td>\n",
       "      <td>1</td>\n",
       "      <td>-1</td>\n",
       "      <td>1</td>\n",
       "      <td>1</td>\n",
       "      <td>-1</td>\n",
       "      <td>1</td>\n",
       "      <td>...</td>\n",
       "      <td>-1</td>\n",
       "      <td>1</td>\n",
       "      <td>-1</td>\n",
       "      <td>-1</td>\n",
       "      <td>0</td>\n",
       "      <td>-1</td>\n",
       "      <td>1</td>\n",
       "      <td>1</td>\n",
       "      <td>1</td>\n",
       "      <td>1</td>\n",
       "    </tr>\n",
       "  </tbody>\n",
       "</table>\n",
       "<p>5 rows × 31 columns</p>\n",
       "</div>"
      ],
      "text/plain": [
       "   having_IP_Address  URL_Length  Shortining_Service  having_At_Symbol  \\\n",
       "0                 -1           1                   1                 1   \n",
       "1                  1           1                   1                 1   \n",
       "2                  1           0                   1                 1   \n",
       "3                  1           0                   1                 1   \n",
       "4                  1           0                  -1                 1   \n",
       "\n",
       "   double_slash_redirecting  Prefix_Suffix  having_Sub_Domain  SSLfinal_State  \\\n",
       "0                        -1             -1                 -1              -1   \n",
       "1                         1             -1                  0               1   \n",
       "2                         1             -1                 -1              -1   \n",
       "3                         1             -1                 -1              -1   \n",
       "4                         1             -1                  1               1   \n",
       "\n",
       "   Domain_registeration_length  Favicon  ...  popUpWindow  Iframe  \\\n",
       "0                           -1        1  ...            1       1   \n",
       "1                           -1        1  ...            1       1   \n",
       "2                           -1        1  ...            1       1   \n",
       "3                            1        1  ...            1       1   \n",
       "4                           -1        1  ...           -1       1   \n",
       "\n",
       "   age_of_domain  DNSRecord  web_traffic  Page_Rank  Google_Index  \\\n",
       "0             -1         -1           -1         -1             1   \n",
       "1             -1         -1            0         -1             1   \n",
       "2              1         -1            1         -1             1   \n",
       "3             -1         -1            1         -1             1   \n",
       "4             -1         -1            0         -1             1   \n",
       "\n",
       "   Links_pointing_to_page  Statistical_report  Result  \n",
       "0                       1                  -1      -1  \n",
       "1                       1                   1      -1  \n",
       "2                       0                  -1      -1  \n",
       "3                      -1                   1      -1  \n",
       "4                       1                   1       1  \n",
       "\n",
       "[5 rows x 31 columns]"
      ]
     },
     "execution_count": 2,
     "metadata": {},
     "output_type": "execute_result"
    }
   ],
   "source": [
    "#reading data\n",
    "\n",
    "data = pd.read_csv(\"C:/Users/Marja/Downloads/phishing.csv\", sep=';')\n",
    "df = pd.DataFrame(data)\n",
    "df.head()"
   ]
  },
  {
   "cell_type": "code",
   "execution_count": 3,
   "id": "underlying-entrance",
   "metadata": {},
   "outputs": [
    {
     "data": {
      "text/plain": [
       "having_IP_Address              11055\n",
       "URL_Length                     11055\n",
       "Shortining_Service             11055\n",
       "having_At_Symbol               11055\n",
       "double_slash_redirecting       11055\n",
       "Prefix_Suffix                  11055\n",
       "having_Sub_Domain              11055\n",
       "SSLfinal_State                 11055\n",
       "Domain_registeration_length    11055\n",
       "Favicon                        11055\n",
       "port                           11055\n",
       "HTTPS_token                    11055\n",
       "Request_URL                    11055\n",
       "URL_of_Anchor                  11055\n",
       "Links_in_tags                  11055\n",
       "SFH                            11055\n",
       "Submitting_to_email            11055\n",
       "Abnormal_URL                   11055\n",
       "Redirect                       11055\n",
       "on_mouseover                   11055\n",
       "RightClick                     11055\n",
       "popUpWindow                    11055\n",
       "Iframe                         11055\n",
       "age_of_domain                  11055\n",
       "DNSRecord                      11055\n",
       "web_traffic                    11055\n",
       "Page_Rank                      11055\n",
       "Google_Index                   11055\n",
       "Links_pointing_to_page         11055\n",
       "Statistical_report             11055\n",
       "Result                         11055\n",
       "dtype: int64"
      ]
     },
     "execution_count": 3,
     "metadata": {},
     "output_type": "execute_result"
    }
   ],
   "source": [
    "# Check how many values we have on each column\n",
    "df.count()"
   ]
  },
  {
   "cell_type": "code",
   "execution_count": 4,
   "id": "visible-native",
   "metadata": {},
   "outputs": [
    {
     "data": {
      "text/plain": [
       "having_IP_Address              0\n",
       "URL_Length                     0\n",
       "Shortining_Service             0\n",
       "having_At_Symbol               0\n",
       "double_slash_redirecting       0\n",
       "Prefix_Suffix                  0\n",
       "having_Sub_Domain              0\n",
       "SSLfinal_State                 0\n",
       "Domain_registeration_length    0\n",
       "Favicon                        0\n",
       "port                           0\n",
       "HTTPS_token                    0\n",
       "Request_URL                    0\n",
       "URL_of_Anchor                  0\n",
       "Links_in_tags                  0\n",
       "SFH                            0\n",
       "Submitting_to_email            0\n",
       "Abnormal_URL                   0\n",
       "Redirect                       0\n",
       "on_mouseover                   0\n",
       "RightClick                     0\n",
       "popUpWindow                    0\n",
       "Iframe                         0\n",
       "age_of_domain                  0\n",
       "DNSRecord                      0\n",
       "web_traffic                    0\n",
       "Page_Rank                      0\n",
       "Google_Index                   0\n",
       "Links_pointing_to_page         0\n",
       "Statistical_report             0\n",
       "Result                         0\n",
       "dtype: int64"
      ]
     },
     "execution_count": 4,
     "metadata": {},
     "output_type": "execute_result"
    }
   ],
   "source": [
    "#missing values?\n",
    "df.isna().sum()"
   ]
  },
  {
   "cell_type": "code",
   "execution_count": 5,
   "id": "joined-error",
   "metadata": {},
   "outputs": [
    {
     "data": {
      "text/plain": [
       "Index(['having_IP_Address_1', 'URL_Length_-1', 'URL_Length_0', 'URL_Length_1',\n",
       "       'Shortining_Service_1', 'having_At_Symbol_1',\n",
       "       'double_slash_redirecting_1', 'Prefix_Suffix_1', 'having_Sub_Domain_-1',\n",
       "       'having_Sub_Domain_0', 'having_Sub_Domain_1', 'SSLfinal_State_-1',\n",
       "       'SSLfinal_State_0', 'SSLfinal_State_1', 'Domain_registeration_length_1',\n",
       "       'Favicon_1', 'port_1', 'HTTPS_token_1', 'Request_URL_1',\n",
       "       'URL_of_Anchor_-1', 'URL_of_Anchor_0', 'URL_of_Anchor_1',\n",
       "       'Links_in_tags_-1', 'Links_in_tags_0', 'Links_in_tags_1', 'SFH_-1',\n",
       "       'SFH_0', 'SFH_1', 'Submitting_to_email_1', 'Abnormal_URL_1',\n",
       "       'Redirect_1', 'on_mouseover_1', 'RightClick_1', 'popUpWindow_1',\n",
       "       'Iframe_1', 'age_of_domain_1', 'DNSRecord_1', 'web_traffic_-1',\n",
       "       'web_traffic_0', 'web_traffic_1', 'Page_Rank_1', 'Google_Index_1',\n",
       "       'Links_pointing_to_page_-1', 'Links_pointing_to_page_0',\n",
       "       'Links_pointing_to_page_1', 'Statistical_report_1', 'Result_1'],\n",
       "      dtype='object')"
      ]
     },
     "execution_count": 5,
     "metadata": {},
     "output_type": "execute_result"
    }
   ],
   "source": [
    "#encoding data\n",
    "enc = OneHotEncoder(drop='if_binary').fit(df)\n",
    "enc_data = enc.transform(df).toarray()\n",
    "\n",
    "colnames = enc.get_feature_names(df.columns.values)\n",
    "\n",
    "enc_df = pd.DataFrame(enc_data, columns=colnames)\n",
    "\n",
    "enc_df.columns"
   ]
  },
  {
   "cell_type": "code",
   "execution_count": 6,
   "id": "meaningful-compromise",
   "metadata": {},
   "outputs": [],
   "source": [
    "# Split the data into train (80%) and test datasets (20%)\n",
    "train_dataset = enc_df.sample(frac=0.8, random_state=0)\n",
    "test_dataset = enc_df.drop(train_dataset.index)"
   ]
  },
  {
   "cell_type": "code",
   "execution_count": 7,
   "id": "moderate-ballot",
   "metadata": {},
   "outputs": [],
   "source": [
    "# Separate the features and labels\n",
    "train_features = train_dataset.copy()\n",
    "test_features = test_dataset.copy()\n",
    "\n",
    "# pop takes \n",
    "train_labels = train_features.pop('Result_1')\n",
    "test_labels = test_features.pop('Result_1')\n"
   ]
  },
  {
   "cell_type": "code",
   "execution_count": 8,
   "id": "widespread-round",
   "metadata": {},
   "outputs": [
    {
     "data": {
      "text/plain": [
       "DecisionTreeClassifier(min_samples_split=5000)"
      ]
     },
     "execution_count": 8,
     "metadata": {},
     "output_type": "execute_result"
    }
   ],
   "source": [
    "# Decision tree classifyer (min samples 5000)\n",
    "\n",
    "classifier = tree.DecisionTreeClassifier(min_samples_split=5000)\n",
    "classifier.fit(train_features, train_labels)\n"
   ]
  },
  {
   "cell_type": "markdown",
   "id": "exotic-science",
   "metadata": {},
   "source": [
    "## 1. Decision tree"
   ]
  },
  {
   "cell_type": "code",
   "execution_count": 9,
   "id": "republican-beauty",
   "metadata": {},
   "outputs": [
    {
     "data": {
      "image/svg+xml": [
       "<?xml version=\"1.0\" encoding=\"UTF-8\" standalone=\"no\"?>\r\n",
       "<!DOCTYPE svg PUBLIC \"-//W3C//DTD SVG 1.1//EN\"\r\n",
       " \"http://www.w3.org/Graphics/SVG/1.1/DTD/svg11.dtd\">\r\n",
       "<!-- Generated by graphviz version 2.38.0 (20140413.2041)\r\n",
       " -->\r\n",
       "<!-- Title: Tree Pages: 1 -->\r\n",
       "<svg width=\"362pt\" height=\"314pt\"\r\n",
       " viewBox=\"0.00 0.00 361.50 314.00\" xmlns=\"http://www.w3.org/2000/svg\" xmlns:xlink=\"http://www.w3.org/1999/xlink\">\r\n",
       "<g id=\"graph0\" class=\"graph\" transform=\"scale(1 1) rotate(0) translate(4 310)\">\r\n",
       "<title>Tree</title>\r\n",
       "<polygon fill=\"white\" stroke=\"none\" points=\"-4,4 -4,-310 357.5,-310 357.5,4 -4,4\"/>\r\n",
       "<!-- 0 -->\r\n",
       "<g id=\"node1\" class=\"node\"><title>0</title>\r\n",
       "<polygon fill=\"none\" stroke=\"black\" points=\"223,-306 68,-306 68,-223 223,-223 223,-306\"/>\r\n",
       "<text text-anchor=\"middle\" x=\"145.5\" y=\"-290.8\" font-family=\"Times New Roman,serif\" font-size=\"14.00\">SSLfinal_State_1 &lt;= 0.5</text>\r\n",
       "<text text-anchor=\"middle\" x=\"145.5\" y=\"-275.8\" font-family=\"Times New Roman,serif\" font-size=\"14.00\">gini = 0.493</text>\r\n",
       "<text text-anchor=\"middle\" x=\"145.5\" y=\"-260.8\" font-family=\"Times New Roman,serif\" font-size=\"14.00\">samples = 8844</text>\r\n",
       "<text text-anchor=\"middle\" x=\"145.5\" y=\"-245.8\" font-family=\"Times New Roman,serif\" font-size=\"14.00\">value = [3917, 4927]</text>\r\n",
       "<text text-anchor=\"middle\" x=\"145.5\" y=\"-230.8\" font-family=\"Times New Roman,serif\" font-size=\"14.00\">class = phishing</text>\r\n",
       "</g>\r\n",
       "<!-- 1 -->\r\n",
       "<g id=\"node2\" class=\"node\"><title>1</title>\r\n",
       "<polygon fill=\"none\" stroke=\"black\" points=\"125,-179.5 0,-179.5 0,-111.5 125,-111.5 125,-179.5\"/>\r\n",
       "<text text-anchor=\"middle\" x=\"62.5\" y=\"-164.3\" font-family=\"Times New Roman,serif\" font-size=\"14.00\">gini = 0.196</text>\r\n",
       "<text text-anchor=\"middle\" x=\"62.5\" y=\"-149.3\" font-family=\"Times New Roman,serif\" font-size=\"14.00\">samples = 3761</text>\r\n",
       "<text text-anchor=\"middle\" x=\"62.5\" y=\"-134.3\" font-family=\"Times New Roman,serif\" font-size=\"14.00\">value = [3348, 413]</text>\r\n",
       "<text text-anchor=\"middle\" x=\"62.5\" y=\"-119.3\" font-family=\"Times New Roman,serif\" font-size=\"14.00\">class = legitimate</text>\r\n",
       "</g>\r\n",
       "<!-- 0&#45;&gt;1 -->\r\n",
       "<g id=\"edge1\" class=\"edge\"><title>0&#45;&gt;1</title>\r\n",
       "<path fill=\"none\" stroke=\"black\" d=\"M116.704,-222.907C108.719,-211.652 100.04,-199.418 92.0155,-188.106\"/>\r\n",
       "<polygon fill=\"black\" stroke=\"black\" points=\"94.6693,-185.798 86.0287,-179.667 88.96,-189.848 94.6693,-185.798\"/>\r\n",
       "<text text-anchor=\"middle\" x=\"81.8388\" y=\"-200.613\" font-family=\"Times New Roman,serif\" font-size=\"14.00\">True</text>\r\n",
       "</g>\r\n",
       "<!-- 2 -->\r\n",
       "<g id=\"node3\" class=\"node\"><title>2</title>\r\n",
       "<polygon fill=\"none\" stroke=\"black\" points=\"316,-187 143,-187 143,-104 316,-104 316,-187\"/>\r\n",
       "<text text-anchor=\"middle\" x=\"229.5\" y=\"-171.8\" font-family=\"Times New Roman,serif\" font-size=\"14.00\">URL_of_Anchor_&#45;1 &lt;= 0.5</text>\r\n",
       "<text text-anchor=\"middle\" x=\"229.5\" y=\"-156.8\" font-family=\"Times New Roman,serif\" font-size=\"14.00\">gini = 0.199</text>\r\n",
       "<text text-anchor=\"middle\" x=\"229.5\" y=\"-141.8\" font-family=\"Times New Roman,serif\" font-size=\"14.00\">samples = 5083</text>\r\n",
       "<text text-anchor=\"middle\" x=\"229.5\" y=\"-126.8\" font-family=\"Times New Roman,serif\" font-size=\"14.00\">value = [569, 4514]</text>\r\n",
       "<text text-anchor=\"middle\" x=\"229.5\" y=\"-111.8\" font-family=\"Times New Roman,serif\" font-size=\"14.00\">class = phishing</text>\r\n",
       "</g>\r\n",
       "<!-- 0&#45;&gt;2 -->\r\n",
       "<g id=\"edge2\" class=\"edge\"><title>0&#45;&gt;2</title>\r\n",
       "<path fill=\"none\" stroke=\"black\" d=\"M174.643,-222.907C181.029,-214.014 187.852,-204.509 194.442,-195.331\"/>\r\n",
       "<polygon fill=\"black\" stroke=\"black\" points=\"197.419,-197.185 200.408,-187.021 191.733,-193.103 197.419,-197.185\"/>\r\n",
       "<text text-anchor=\"middle\" x=\"204.458\" y=\"-207.991\" font-family=\"Times New Roman,serif\" font-size=\"14.00\">False</text>\r\n",
       "</g>\r\n",
       "<!-- 3 -->\r\n",
       "<g id=\"node4\" class=\"node\"><title>3</title>\r\n",
       "<polygon fill=\"none\" stroke=\"black\" points=\"223,-68 98,-68 98,-0 223,-0 223,-68\"/>\r\n",
       "<text text-anchor=\"middle\" x=\"160.5\" y=\"-52.8\" font-family=\"Times New Roman,serif\" font-size=\"14.00\">gini = 0.144</text>\r\n",
       "<text text-anchor=\"middle\" x=\"160.5\" y=\"-37.8\" font-family=\"Times New Roman,serif\" font-size=\"14.00\">samples = 4865</text>\r\n",
       "<text text-anchor=\"middle\" x=\"160.5\" y=\"-22.8\" font-family=\"Times New Roman,serif\" font-size=\"14.00\">value = [380, 4485]</text>\r\n",
       "<text text-anchor=\"middle\" x=\"160.5\" y=\"-7.8\" font-family=\"Times New Roman,serif\" font-size=\"14.00\">class = phishing</text>\r\n",
       "</g>\r\n",
       "<!-- 2&#45;&gt;3 -->\r\n",
       "<g id=\"edge3\" class=\"edge\"><title>2&#45;&gt;3</title>\r\n",
       "<path fill=\"none\" stroke=\"black\" d=\"M203.807,-103.726C198.289,-94.9703 192.45,-85.7032 186.906,-76.9051\"/>\r\n",
       "<polygon fill=\"black\" stroke=\"black\" points=\"189.776,-74.8941 181.483,-68.2996 183.853,-78.6259 189.776,-74.8941\"/>\r\n",
       "</g>\r\n",
       "<!-- 4 -->\r\n",
       "<g id=\"node5\" class=\"node\"><title>4</title>\r\n",
       "<polygon fill=\"none\" stroke=\"black\" points=\"353.5,-68 241.5,-68 241.5,-0 353.5,-0 353.5,-68\"/>\r\n",
       "<text text-anchor=\"middle\" x=\"297.5\" y=\"-52.8\" font-family=\"Times New Roman,serif\" font-size=\"14.00\">gini = 0.231</text>\r\n",
       "<text text-anchor=\"middle\" x=\"297.5\" y=\"-37.8\" font-family=\"Times New Roman,serif\" font-size=\"14.00\">samples = 218</text>\r\n",
       "<text text-anchor=\"middle\" x=\"297.5\" y=\"-22.8\" font-family=\"Times New Roman,serif\" font-size=\"14.00\">value = [189, 29]</text>\r\n",
       "<text text-anchor=\"middle\" x=\"297.5\" y=\"-7.8\" font-family=\"Times New Roman,serif\" font-size=\"14.00\">class = legitimate</text>\r\n",
       "</g>\r\n",
       "<!-- 2&#45;&gt;4 -->\r\n",
       "<g id=\"edge4\" class=\"edge\"><title>2&#45;&gt;4</title>\r\n",
       "<path fill=\"none\" stroke=\"black\" d=\"M254.821,-103.726C260.258,-94.9703 266.013,-85.7032 271.477,-76.9051\"/>\r\n",
       "<polygon fill=\"black\" stroke=\"black\" points=\"274.519,-78.6413 276.821,-68.2996 268.572,-74.9484 274.519,-78.6413\"/>\r\n",
       "</g>\r\n",
       "</g>\r\n",
       "</svg>\r\n"
      ],
      "text/plain": [
       "<graphviz.files.Source at 0x244a8177100>"
      ]
     },
     "execution_count": 9,
     "metadata": {},
     "output_type": "execute_result"
    }
   ],
   "source": [
    "dot_data = tree.export_graphviz(classifier, out_file=None, feature_names=train_features.columns, class_names=['legitimate','phishing'])\n",
    "graph = graphviz.Source(dot_data) \n",
    "graph"
   ]
  },
  {
   "cell_type": "markdown",
   "id": "proper-operator",
   "metadata": {},
   "source": [
    "## 2. Instructions to analyze whether the website is likely to be a phising site or not \n",
    "\n",
    "1. Check if website uses https.\n",
    "\n",
    "2. If website uses https, the website is considered to be **legitimate**.\n",
    "\n",
    "3. If it doesnt't use https, check url of anchor. An anchor is an element defined by the a-tag. Most of the a-tags should have same domain names as the website. Sometimes achors are not linked to any webpages.\n",
    "\n",
    "4. If more or as much as 31% of anchors have different domain names or they don't have link to any webpage, the website is considered to be a **phishing site**. Otherwise it is considered to be **legitimate** by the model.\n"
   ]
  },
  {
   "cell_type": "markdown",
   "id": "secret-completion",
   "metadata": {},
   "source": [
    "## 3. Accuracy\n",
    "\n",
    "Accuracy of the model is 0.90 with a test set that hasn't been used for training. Below the accuracy score has been calculated for different kinds of models. Even tough we take more complicated model, the accuracy really doesn't get better.\n",
    "\n",
    "If we don't give any restrictions to the model, the accuracy is 0.96 but then the model is so complicated that it is really hard to use it for predictions manually."
   ]
  },
  {
   "cell_type": "code",
   "execution_count": 10,
   "id": "communist-venture",
   "metadata": {},
   "outputs": [
    {
     "data": {
      "text/plain": [
       "0.9032112166440525"
      ]
     },
     "execution_count": 10,
     "metadata": {},
     "output_type": "execute_result"
    }
   ],
   "source": [
    "# Accuracy score of the model used\n",
    "predictions=classifier.predict(test_features)\n",
    "accuracy_score(test_labels, predictions)"
   ]
  },
  {
   "cell_type": "code",
   "execution_count": 11,
   "id": "conscious-alias",
   "metadata": {},
   "outputs": [
    {
     "data": {
      "text/plain": [
       "0.9611035730438715"
      ]
     },
     "execution_count": 11,
     "metadata": {},
     "output_type": "execute_result"
    }
   ],
   "source": [
    "#Accuracy score without restrictions\n",
    "classifier = tree.DecisionTreeClassifier().fit(train_features, train_labels)\n",
    "\n",
    "predictions=classifier.predict(test_features)\n",
    "accuracy_score(test_labels, predictions)"
   ]
  },
  {
   "cell_type": "code",
   "execution_count": 12,
   "id": "inclusive-rolling",
   "metadata": {},
   "outputs": [
    {
     "data": {
      "text/plain": [
       "0.9136137494346449"
      ]
     },
     "execution_count": 12,
     "metadata": {},
     "output_type": "execute_result"
    }
   ],
   "source": [
    "#Accuracy score min samples 500\n",
    "\n",
    "classifier = tree.DecisionTreeClassifier(min_samples_split=500).fit(train_features, train_labels)\n",
    "\n",
    "predictions=classifier.predict(test_features)\n",
    "accuracy_score(test_labels, predictions)"
   ]
  }
 ],
 "metadata": {
  "kernelspec": {
   "display_name": "Python 3",
   "language": "python",
   "name": "python3"
  },
  "language_info": {
   "codemirror_mode": {
    "name": "ipython",
    "version": 3
   },
   "file_extension": ".py",
   "mimetype": "text/x-python",
   "name": "python",
   "nbconvert_exporter": "python",
   "pygments_lexer": "ipython3",
   "version": "3.8.5"
  }
 },
 "nbformat": 4,
 "nbformat_minor": 5
}
